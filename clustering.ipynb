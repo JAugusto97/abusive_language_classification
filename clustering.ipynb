{
 "cells": [
  {
   "cell_type": "code",
   "execution_count": 1,
   "metadata": {},
   "outputs": [],
   "source": [
    "import pandas as pd\n",
    "import numpy as np\n",
    "from sklearn.cluster import KMeans\n",
    "from sklearn.feature_extraction.text import TfidfVectorizer"
   ]
  },
  {
   "cell_type": "code",
   "execution_count": 3,
   "metadata": {},
   "outputs": [],
   "source": [
    "toxic_data = pd.read_csv('data/corpus.csv', engine='python')\n",
    "lgbt_data = pd.read_csv('data/corpus_lgbt.csv')"
   ]
  },
  {
   "cell_type": "code",
   "execution_count": 32,
   "metadata": {
    "scrolled": true
   },
   "outputs": [
    {
     "data": {
      "text/plain": [
       "1.0    66851\n",
       "0.0    23592\n",
       "Name: toxico, dtype: int64"
      ]
     },
     "execution_count": 32,
     "metadata": {},
     "output_type": "execute_result"
    }
   ],
   "source": [
    "toxic_data['toxico'].value_counts()"
   ]
  },
  {
   "cell_type": "code",
   "execution_count": 34,
   "metadata": {},
   "outputs": [
    {
     "data": {
      "text/plain": [
       "1    14241\n",
       "0     4673\n",
       "Name: toxico, dtype: int64"
      ]
     },
     "execution_count": 34,
     "metadata": {},
     "output_type": "execute_result"
    }
   ],
   "source": [
    "lgbt_data['toxico'].value_counts()"
   ]
  },
  {
   "cell_type": "code",
   "execution_count": 4,
   "metadata": {
    "scrolled": false
   },
   "outputs": [
    {
     "data": {
      "text/html": [
       "<div>\n",
       "<style scoped>\n",
       "    .dataframe tbody tr th:only-of-type {\n",
       "        vertical-align: middle;\n",
       "    }\n",
       "\n",
       "    .dataframe tbody tr th {\n",
       "        vertical-align: top;\n",
       "    }\n",
       "\n",
       "    .dataframe thead th {\n",
       "        text-align: right;\n",
       "    }\n",
       "</style>\n",
       "<table border=\"1\" class=\"dataframe\">\n",
       "  <thead>\n",
       "    <tr style=\"text-align: right;\">\n",
       "      <th></th>\n",
       "      <th>comentario</th>\n",
       "      <th>toxico</th>\n",
       "      <th>homofobico</th>\n",
       "      <th>vulgar</th>\n",
       "      <th>insulto</th>\n",
       "    </tr>\n",
       "  </thead>\n",
       "  <tbody>\n",
       "    <tr>\n",
       "      <th>0</th>\n",
       "      <td>Se o Bolsonaro falar: que viado bom é viado PE...</td>\n",
       "      <td>1.0</td>\n",
       "      <td>1.0</td>\n",
       "      <td>0.0</td>\n",
       "      <td>0.0</td>\n",
       "    </tr>\n",
       "    <tr>\n",
       "      <th>1</th>\n",
       "      <td>Cabelo de roqueiro viado kkkk</td>\n",
       "      <td>1.0</td>\n",
       "      <td>1.0</td>\n",
       "      <td>0.0</td>\n",
       "      <td>0.0</td>\n",
       "    </tr>\n",
       "    <tr>\n",
       "      <th>2</th>\n",
       "      <td>vai cuntinuar sendo viado .....a coseira na bu...</td>\n",
       "      <td>1.0</td>\n",
       "      <td>1.0</td>\n",
       "      <td>0.0</td>\n",
       "      <td>0.0</td>\n",
       "    </tr>\n",
       "    <tr>\n",
       "      <th>3</th>\n",
       "      <td>Que viado</td>\n",
       "      <td>1.0</td>\n",
       "      <td>1.0</td>\n",
       "      <td>0.0</td>\n",
       "      <td>0.0</td>\n",
       "    </tr>\n",
       "    <tr>\n",
       "      <th>5</th>\n",
       "      <td>Corre viado, arrombado!</td>\n",
       "      <td>1.0</td>\n",
       "      <td>1.0</td>\n",
       "      <td>1.0</td>\n",
       "      <td>0.0</td>\n",
       "    </tr>\n",
       "    <tr>\n",
       "      <th>6</th>\n",
       "      <td>Arazo viado😂😂</td>\n",
       "      <td>1.0</td>\n",
       "      <td>1.0</td>\n",
       "      <td>0.0</td>\n",
       "      <td>0.0</td>\n",
       "    </tr>\n",
       "    <tr>\n",
       "      <th>7</th>\n",
       "      <td>Tem viado nesse mato!</td>\n",
       "      <td>1.0</td>\n",
       "      <td>1.0</td>\n",
       "      <td>0.0</td>\n",
       "      <td>0.0</td>\n",
       "    </tr>\n",
       "    <tr>\n",
       "      <th>8</th>\n",
       "      <td>*PAVÃO CAÇA VIADO, BOA ESSA*</td>\n",
       "      <td>1.0</td>\n",
       "      <td>1.0</td>\n",
       "      <td>0.0</td>\n",
       "      <td>0.0</td>\n",
       "    </tr>\n",
       "    <tr>\n",
       "      <th>9</th>\n",
       "      <td>Fala mal do rock seu viado só quer falar mau d...</td>\n",
       "      <td>1.0</td>\n",
       "      <td>1.0</td>\n",
       "      <td>0.0</td>\n",
       "      <td>0.0</td>\n",
       "    </tr>\n",
       "    <tr>\n",
       "      <th>10</th>\n",
       "      <td>Ceu pau no cu dis grassado viado</td>\n",
       "      <td>1.0</td>\n",
       "      <td>1.0</td>\n",
       "      <td>1.0</td>\n",
       "      <td>0.0</td>\n",
       "    </tr>\n",
       "    <tr>\n",
       "      <th>13</th>\n",
       "      <td>De novo essa safadeza em Garanhuns-PE, no fest...</td>\n",
       "      <td>1.0</td>\n",
       "      <td>1.0</td>\n",
       "      <td>0.0</td>\n",
       "      <td>0.0</td>\n",
       "    </tr>\n",
       "    <tr>\n",
       "      <th>14</th>\n",
       "      <td>Para todos os que seguem a esquerda militante ...</td>\n",
       "      <td>1.0</td>\n",
       "      <td>1.0</td>\n",
       "      <td>0.0</td>\n",
       "      <td>0.0</td>\n",
       "    </tr>\n",
       "    <tr>\n",
       "      <th>15</th>\n",
       "      <td>O problema não é os \"Mavs\" iluminats que o Dan...</td>\n",
       "      <td>1.0</td>\n",
       "      <td>1.0</td>\n",
       "      <td>1.0</td>\n",
       "      <td>0.0</td>\n",
       "    </tr>\n",
       "    <tr>\n",
       "      <th>17</th>\n",
       "      <td>QUEM LÊ ISSO É VIADO</td>\n",
       "      <td>1.0</td>\n",
       "      <td>1.0</td>\n",
       "      <td>0.0</td>\n",
       "      <td>0.0</td>\n",
       "    </tr>\n",
       "    <tr>\n",
       "      <th>18</th>\n",
       "      <td>Estão perdendo tempo levantando bandeira porqu...</td>\n",
       "      <td>1.0</td>\n",
       "      <td>1.0</td>\n",
       "      <td>0.0</td>\n",
       "      <td>0.0</td>\n",
       "    </tr>\n",
       "    <tr>\n",
       "      <th>19</th>\n",
       "      <td>Nando, aqui no Rio a gente chama de \"paraíba\" ...</td>\n",
       "      <td>1.0</td>\n",
       "      <td>1.0</td>\n",
       "      <td>1.0</td>\n",
       "      <td>0.0</td>\n",
       "    </tr>\n",
       "    <tr>\n",
       "      <th>20</th>\n",
       "      <td>Viado - leao deixa eu por a mao no seu ombro ....</td>\n",
       "      <td>1.0</td>\n",
       "      <td>1.0</td>\n",
       "      <td>0.0</td>\n",
       "      <td>0.0</td>\n",
       "    </tr>\n",
       "    <tr>\n",
       "      <th>21</th>\n",
       "      <td>\"Apesar de ter um monte de elementos do capiro...</td>\n",
       "      <td>1.0</td>\n",
       "      <td>1.0</td>\n",
       "      <td>0.0</td>\n",
       "      <td>0.0</td>\n",
       "    </tr>\n",
       "    <tr>\n",
       "      <th>22</th>\n",
       "      <td>RPG COISA DE VIADO.\\n\\njogo Battlefield. estil...</td>\n",
       "      <td>1.0</td>\n",
       "      <td>1.0</td>\n",
       "      <td>1.0</td>\n",
       "      <td>0.0</td>\n",
       "    </tr>\n",
       "    <tr>\n",
       "      <th>23</th>\n",
       "      <td>Se for pra Netflix um dos personagens vai vira...</td>\n",
       "      <td>1.0</td>\n",
       "      <td>1.0</td>\n",
       "      <td>0.0</td>\n",
       "      <td>0.0</td>\n",
       "    </tr>\n",
       "  </tbody>\n",
       "</table>\n",
       "</div>"
      ],
      "text/plain": [
       "                                           comentario  toxico  homofobico  \\\n",
       "0   Se o Bolsonaro falar: que viado bom é viado PE...     1.0         1.0   \n",
       "1                       Cabelo de roqueiro viado kkkk     1.0         1.0   \n",
       "2   vai cuntinuar sendo viado .....a coseira na bu...     1.0         1.0   \n",
       "3                                           Que viado     1.0         1.0   \n",
       "5                             Corre viado, arrombado!     1.0         1.0   \n",
       "6                                       Arazo viado😂😂     1.0         1.0   \n",
       "7                               Tem viado nesse mato!     1.0         1.0   \n",
       "8                        *PAVÃO CAÇA VIADO, BOA ESSA*     1.0         1.0   \n",
       "9   Fala mal do rock seu viado só quer falar mau d...     1.0         1.0   \n",
       "10                   Ceu pau no cu dis grassado viado     1.0         1.0   \n",
       "13  De novo essa safadeza em Garanhuns-PE, no fest...     1.0         1.0   \n",
       "14  Para todos os que seguem a esquerda militante ...     1.0         1.0   \n",
       "15  O problema não é os \"Mavs\" iluminats que o Dan...     1.0         1.0   \n",
       "17                               QUEM LÊ ISSO É VIADO     1.0         1.0   \n",
       "18  Estão perdendo tempo levantando bandeira porqu...     1.0         1.0   \n",
       "19  Nando, aqui no Rio a gente chama de \"paraíba\" ...     1.0         1.0   \n",
       "20  Viado - leao deixa eu por a mao no seu ombro ....     1.0         1.0   \n",
       "21  \"Apesar de ter um monte de elementos do capiro...     1.0         1.0   \n",
       "22  RPG COISA DE VIADO.\\n\\njogo Battlefield. estil...     1.0         1.0   \n",
       "23  Se for pra Netflix um dos personagens vai vira...     1.0         1.0   \n",
       "\n",
       "    vulgar  insulto  \n",
       "0      0.0      0.0  \n",
       "1      0.0      0.0  \n",
       "2      0.0      0.0  \n",
       "3      0.0      0.0  \n",
       "5      1.0      0.0  \n",
       "6      0.0      0.0  \n",
       "7      0.0      0.0  \n",
       "8      0.0      0.0  \n",
       "9      0.0      0.0  \n",
       "10     1.0      0.0  \n",
       "13     0.0      0.0  \n",
       "14     0.0      0.0  \n",
       "15     1.0      0.0  \n",
       "17     0.0      0.0  \n",
       "18     0.0      0.0  \n",
       "19     1.0      0.0  \n",
       "20     0.0      0.0  \n",
       "21     0.0      0.0  \n",
       "22     1.0      0.0  \n",
       "23     0.0      0.0  "
      ]
     },
     "execution_count": 4,
     "metadata": {},
     "output_type": "execute_result"
    }
   ],
   "source": [
    "toxic_data[toxic_data['homofobico'] == 1].head(20)"
   ]
  },
  {
   "cell_type": "code",
   "execution_count": 6,
   "metadata": {
    "scrolled": true
   },
   "outputs": [
    {
     "name": "stdout",
     "output_type": "stream",
     "text": [
      "0: Se o Bolsonaro falar: que viado bom é viado PEIDANDO na floresta.... com certeza ele vai ser mal interpretado e crucificado...\n",
      "Mas essa mídia militante e podre pode falar o que quiser, fazer parceria com quadrilha de criminosos e ainda repassar seus \"produtos\" sem problema algum???\n",
      "Liberdade de imprensa é o crlh....\n",
      "\n",
      "1: Cabelo de roqueiro viado kkkk\n",
      "\n",
      "2: vai cuntinuar sendo viado .....a coseira na bundinha não vai sumir.....\n",
      "\n",
      "3: Que viado\n",
      "\n",
      "5: Corre viado, arrombado!\n",
      "\n",
      "6: Arazo viado😂😂\n",
      "\n",
      "7: Tem viado nesse mato!\n",
      "\n",
      "8: *PAVÃO CAÇA VIADO, BOA ESSA*\n",
      "\n",
      "9: Fala mal do rock seu viado só quer falar mau do gosto dos outros\n",
      "\n",
      "10: Ceu pau no cu dis grassado viado\n",
      "\n",
      "13: De novo essa safadeza em Garanhuns-PE, no festival de in(f)verno\n",
      "ano passado foi a história daquele viado chamando jesus de travesti, daniela mercury invocando os diabos, e a peça que seria pública de um travesti encenando jesus, que no final terminou sendo em um quintal de uma casa.\n",
      "Esse ano foi zelia duncan no show sábado falando fora bolsonaro e esse fato que ocorreu nessa igreja, e olhe que só foi 3 dias de festa viu ainda faltam mais 5 dias e tem muita coisa pra rolar.\n",
      "\n",
      "14: Para todos os que seguem a esquerda militante ou não, se não tem relação com jiló, não presta. Imagina a versão da esquerda para esse filme: Um viadão levantando um veadinho e mostrando pra tudo quanto é viado a viadagem. Plim Plim...\n",
      "\n",
      "15: O problema não é os \"Mavs\" iluminats que o Danilo acha que o persegue o problema que ele tá pisando na bola faz tempo e o povo que gostava dele está o criticando, Caralho isso é normal o mesmos que o aplaudiam agora são os mesmo que tem a liberdade de dizer, Não gostei dessa porra, viado se e um artista público se quer unanimidade de pensamento converso com o próprio cú ou com a pica sonsa!!!! takey grande abraço!!!\n",
      "\n",
      "17: QUEM LÊ ISSO É VIADO\n",
      "\n",
      "18: Estão perdendo tempo levantando bandeira porque tão  falando que tem viado no filme kkkkkkk\n",
      "Então não morre pq tem viado na vida tbm\n",
      "\n",
      "19: Nando, aqui no Rio a gente chama de \"paraíba\" qualquer um que tenha nascido da Bahia pra cima, inclusive. Até quem nasceu no Amazonas, prá  gente é \"paraíba\". \n",
      "Além da Feira dos Paraíbas (que pouca gente conhece pelo nome real de Feira de São Cristóvão), existe  em Copacabana uma praça de nome Serzedêlo Correia, que é conhecida como \"Praça dos Paraíbas\", sabe Deus por que.\n",
      "Mas isso de forma alguma é uma forma de depreciar os brasileiros de mais baixa latitude. Ao contrário, é uma forma até carinhosa de nos referirmos a eles. Assim como é comum a gente chamar os pretos de \"negão\", os louros de \"russo\" ou \"alemão\", e por aí vai...\n",
      "O porteiro do meu prédio (adivinha? paraíba. E da Paraíba!) nos dias de folga sai todo feliz dizendo que \"vai se acabar na Feira dos Paraíbas\"\n",
      "Em tempo: sou filho de piauiense, portanto, meio paraíba também.\n",
      "É isso aí...\n",
      "Lula dizer que Pelotas é polo exportador de viado nunca incomodou essa esquerdalhada imunda.\n",
      "Vão tudo pra puta que os pariu!!!\n",
      "\n",
      "20: Viado - leao deixa eu por a mao no seu ombro ....\n",
      "leao - nao \n",
      "leao- deixa eu por a mao no seu ombro viado .....\n",
      "viado - eu deixo xim S2\n",
      "\n",
      "21: \"Apesar de ter um monte de elementos do capiroto, esse jogo não é do capiroto...\" é igual o cara que dá a bunda mas não é viado.\n",
      "\n",
      "22: RPG COISA DE VIADO.\n",
      "\n",
      "jogo Battlefield. estilo suporte com metralhadoras para dar tiro pra caralho\n",
      "\n",
      "23: Se for pra Netflix um dos personagens vai virar viado. Kkk é muita lacração!\n",
      "\n"
     ]
    }
   ],
   "source": [
    "for i, comentario in toxic_data['comentario'][toxic_data['homofobico'] == 1].head(20).iteritems():\n",
    "    print(str(i)+':', comentario, end='\\n\\n')"
   ]
  },
  {
   "cell_type": "code",
   "execution_count": 7,
   "metadata": {},
   "outputs": [
    {
     "name": "stdout",
     "output_type": "stream",
     "text": [
      "0: É um saco! Insuportável!\n",
      "\n",
      "Enxergo como fases de um jogo, aliás.\n",
      "1. O match\n",
      "2. Conseguir uma resposta\n",
      "3. Entrevista de emprego\n",
      "4. Manter uma conversa\n",
      "5. Intenções e pensamentos compatíveis\n",
      "6. \"Manda nudes?\" - Aliás, não\n",
      "7. \"Vamos sair?\"\n",
      "\n",
      "E em qualquer que seja a fase, na MENOR dificuldade encontrada, as pessoas já desistem. E você tem que começar tudo de novo com outra pessoa. É desgastante. É pior do que chegar na parte de sair e ver que o santo não bateu. \n",
      "\n",
      "É difícil a vida do viado solteiro querendo encontrar um amorzinho.\n",
      "\n",
      "1: Adriano imperador cansou de comer viado , travestir e putas ou era comido sabe se lá ,nos quartos do hotel Sheraton da barra .\n",
      "\n",
      "3: viado vai toma vegonha  na cara\n",
      "\n",
      "4: viado ridiculo\n",
      "\n",
      "5: Assimmm. Eu sou gay e quando meus amigos falam (ai viado ou fala viado) assim mesmo que seja com outra pessoa más eu me incómodo\n",
      "\n",
      "6: \"Tem muito viado\" sim tem e com muito orgulhoooo\n",
      "\n",
      "7: Na globo so tem viado\n",
      "\n",
      "8: Viado bugado, não entendi o q ele quer da vida!!!\n",
      "\n",
      "9: Ninguém quer relação depois pq a gay é uma mala... Pelamooor que viado chatituuu\n",
      "\n",
      "10: Meus pais são da década dos 50 anos. Então ja sabem né? É impossível eles aceitarem vc ser viado. Ta doente, vai pro psicologo, leva pro cabaré a força, jogava futebol, brincado com os cara de boa, fui me escondendo, quebrando a cara, ouvir muitas piadas, ate hoje. Comprei meu respeito me tornando alguém, estudei muito e hoje trabalho por conta própria. Fui maltratado, rebaixado pela minha família, comi o pão que cão amassou. Mais hoje, hoje dou as cartas e as regras eu mesmo faço. Meus queridos, vamos saber ser gay, respeito, limite. Nada haver ser como ser as prostitutas de esquina, vender o corpo, beber todas, viver nas drogas. Acho que é por aí.\n",
      "\n",
      "11: Viado o caralho tudo da o cu\n",
      "\n",
      "12: Kkkkkk agora viado e obrigado a gostar de buceta??\n",
      "\n",
      "13: Resumindo hetero se falar \"viado \"  é  homofobico, feio. Mas usar a palavra mulherzinha como recusa não. Ou seja todo mundo HOMOFOBICO.\n",
      "\n",
      "14: Genteeeee\n",
      "Eu vesti salto, dançava katty, fazia cabelo de camiseta, assistia xuxa desde meus 2 anos de idade e tenho 9 dvds genteee, passava maquiagem na minha tia fazia saias e etc kkk mds gente\n",
      "Sô mt viado\n",
      "\n",
      "15: É viado de mais gente😲😂😂\n",
      "\n",
      "16: Estou muito envergonhada e longe de sentir qualquer tipo de orgulho desses \"viadinhos\" que se multiplicaram até atingir a quantia que passou dos 3 milhões de representantes do orgulho gay.\n",
      "Orgulho de que mesmo? De conseguirem fazer tanto drama e mimimi que quem nem se importava com a sexualidade dessa gente, agora não suporta ouvir falar em gay?\n",
      "Orgulho de ficar se esfregando ou mesmo se beijando em lugar público, como fizeram a Daniela Mercury e a namorada no púpito do senado? Orgulho de gritar aos quatro cantos seus direitos homossexuais e desrespeitar os direitos dos outros, como os de tantos homossexuais que não se sentem bem com essa viadagem toda?!\n",
      "Não sei quanto do nosso dinheiro foi usado nessa sodomia mas sei bem que se cada viado (sapatão) e afins lá presentes fizesse a doação de 1 real cada um, pagariam a tal parada com sobra ou, ainda melhor, ajudariam muito a tantos hospitais, centro de idosos, crianças e animais abandonados que precisam de bem menos que aparecer e mostrar a bunda numa avenida pública por causa alguma!\n",
      "O dia em que deixarem de ser levianos e reverterem tanto dinheiro para promover o bem do próximo, aí sim, poderão dizer que sentem orgulho de alguma coisa!\n",
      "\n",
      "Só um desabafo! Eu precisava dizer...\n",
      "\n",
      "17: Poha e tanta bandeira que até eu sendo transexual me perdi não sei mais Quais são, os significados na minha época era só sapatão e viado né mas hoje tanto gêneros que se me perguntar eu não sei explicar e vamos ser feliz 😮😂😂 🌈🌈🌈💋❤\n",
      "\n",
      "18: \"E onde que tem viado e tem sossego?\"\n",
      "\n",
      "19: 0:50 Bicha deixa de ser biscoiteira kkkkk Pedro você é muito engraçado? Quando te encontrar vou fazer uma piada com você e ver se você pega...Ah viado se eu te encontrar no meio da bagunça, sinto muito, não vai ser esse Pedro111, não, você vai ter que parar, dar atenção e vou te falar o quanto sou seu fan, seu trabalho é muito importante para só um Pedro!!! (Pronto! acabou o biscoito kkkk). Ah gente não gostei do nome do embuste ter sido citado, é propaganda para aquele *&^*^&%. 13:40 é isso que temos transmitir, fazer propaganda, afinal vale muito ajudar nossas manas TRANS. Agora para quem pensou que o biscoito tinha acabado, se enganou. Pedro eu assisti aquela matéria do Fantástico por que você estava lá e DEVERIA ESTAR afinal, você é um homem bonito? É. Mas não é por isso que você tem sucesso, você É SUCESSO, por que você é autêntico, verdadeiro, comprometido com a causa do Vale, A última fala sobre o Presidente do Brasil foi a única que gostei, pois não foi propaganda, foi simplesmente você mostrando que você e a LIGA DA JUSTIÇA não vai descansar e vai continuar na luta por todas as minions lesadas que batem a mão no peito e diz que é gay mas é minion (não ridicularize seres acéfalos podem sobreviver por um bom tempo no limbo). Enfim, amei o video e obrigado por existir. Qualquer hora nos cruzaremos na Pride em São Paulo ou no mundo.\n",
      "\n",
      "21: Ele é do babado viado, eu tenho certeza\n",
      "\n"
     ]
    }
   ],
   "source": [
    "for i, comentario in lgbt_data['comentario'][lgbt_data['homofobico'] == 1].head(20).iteritems():\n",
    "    print(str(i)+':', comentario, end='\\n\\n')"
   ]
  },
  {
   "cell_type": "code",
   "execution_count": 27,
   "metadata": {},
   "outputs": [
    {
     "name": "stdout",
     "output_type": "stream",
     "text": [
      "Toxic Data\n",
      "toxic ratio: 0.7391506252556859\n",
      "non-toxic ratio: 0.2608493747443141\n",
      "\n",
      "1.0    66851\n",
      "0.0    23592\n",
      "Name: toxico, dtype: int64\n"
     ]
    }
   ],
   "source": [
    "toxic_counts = toxic_data['toxico'].value_counts()\n",
    "print('Toxic Data')\n",
    "print('toxic ratio:', toxic_counts[1]/(toxic_counts[0]+toxic_counts[1]))\n",
    "print('non-toxic ratio:', toxic_counts[0]/(toxic_counts[0]+toxic_counts[1]))\n",
    "print()\n",
    "print(toxic_counts)"
   ]
  },
  {
   "cell_type": "code",
   "execution_count": 26,
   "metadata": {},
   "outputs": [
    {
     "name": "stdout",
     "output_type": "stream",
     "text": [
      "LGBT Data\n",
      "toxic ratio: 0.7529343343555038\n",
      "non-toxic ratio: 0.24706566564449614\n",
      "\n",
      "1.0    5783\n",
      "0.0    1537\n",
      "Name: toxico, dtype: int64\n"
     ]
    }
   ],
   "source": [
    "lgbt_counts = lgbt_data['toxico'].value_counts()\n",
    "print('LGBT Data')\n",
    "print('toxic ratio:', lgbt_counts[1]/(lgbt_counts[0]+lgbt_counts[1]))\n",
    "print('non-toxic ratio:', lgbt_counts[0]/(lgbt_counts[0]+lgbt_counts[1]))\n",
    "print()\n",
    "print(toxic_counts)"
   ]
  },
  {
   "cell_type": "code",
   "execution_count": 12,
   "metadata": {},
   "outputs": [],
   "source": [
    "vectorizer = TfidfVectorizer().fit(toxic_data['comentario'])\n",
    "X1 = vectorizer.transform(toxic_data['comentario'])\n",
    "X2 = vectorizer.transform(lgbt_data['comentario'])"
   ]
  },
  {
   "cell_type": "code",
   "execution_count": 13,
   "metadata": {
    "scrolled": true
   },
   "outputs": [
    {
     "data": {
      "text/plain": [
       "KMeans(algorithm='auto', copy_x=True, init='k-means++', max_iter=300,\n",
       "       n_clusters=2, n_init=10, n_jobs=None, precompute_distances='auto',\n",
       "       random_state=None, tol=0.0001, verbose=0)"
      ]
     },
     "execution_count": 13,
     "metadata": {},
     "output_type": "execute_result"
    }
   ],
   "source": [
    "clustering = KMeans(n_clusters=2)\n",
    "clustering.fit(X1)"
   ]
  },
  {
   "cell_type": "code",
   "execution_count": 14,
   "metadata": {},
   "outputs": [],
   "source": [
    "ones = np.where(clustering.labels_ == 1)\n",
    "zeros = np.where(clustering.labels_ == 0)"
   ]
  },
  {
   "cell_type": "code",
   "execution_count": 24,
   "metadata": {},
   "outputs": [
    {
     "name": "stdout",
     "output_type": "stream",
     "text": [
      "Cluster 0 - Toxic Data\n",
      "toxic ratio: 0.7967914438502673\n",
      "non-toxic ratio: 0.20320855614973263\n",
      "\n",
      "1.0    9238\n",
      "0.0    2356\n",
      "Name: toxico, dtype: int64\n"
     ]
    }
   ],
   "source": [
    "toxic_counts = toxic_data.iloc[zeros]['toxico'].value_counts()\n",
    "print('Cluster 0 - Toxic Data')\n",
    "print('toxic ratio:', toxic_counts[1]/(toxic_counts[0]+toxic_counts[1]))\n",
    "print('non-toxic ratio:', toxic_counts[0]/(toxic_counts[0]+toxic_counts[1]))\n",
    "print()\n",
    "print(toxic_counts)"
   ]
  },
  {
   "cell_type": "code",
   "execution_count": 25,
   "metadata": {
    "scrolled": true
   },
   "outputs": [
    {
     "name": "stdout",
     "output_type": "stream",
     "text": [
      "Cluster 1 - Toxic Data\n",
      "toxic ratio: 0.7900273224043716\n",
      "non-toxic ratio: 0.2099726775956284\n",
      "\n",
      "1.0    5783\n",
      "0.0    1537\n",
      "Name: toxico, dtype: int64\n"
     ]
    }
   ],
   "source": [
    "toxic_counts = toxic_data.iloc[ones]['toxico'].value_counts()\n",
    "print('Cluster 1 - Toxic Data')\n",
    "print('toxic ratio:', toxic_counts[1]/(toxic_counts[0]+toxic_counts[1]))\n",
    "print('non-toxic ratio:', toxic_counts[0]/(toxic_counts[0]+toxic_counts[1]))\n",
    "print()\n",
    "print(toxic_counts)"
   ]
  },
  {
   "cell_type": "code",
   "execution_count": 17,
   "metadata": {},
   "outputs": [],
   "source": [
    "predictions = clustering.predict(X2)"
   ]
  },
  {
   "cell_type": "code",
   "execution_count": 18,
   "metadata": {},
   "outputs": [],
   "source": [
    "ones = np.where(predictions == 1)\n",
    "zeros = np.where(predictions == 0)"
   ]
  },
  {
   "cell_type": "code",
   "execution_count": 28,
   "metadata": {},
   "outputs": [
    {
     "name": "stdout",
     "output_type": "stream",
     "text": [
      "Cluster 0 - LGBT Data\n",
      "toxic ratio: 0.73658789028808\n",
      "non-toxic ratio: 0.26341210971192\n",
      "\n",
      "1    8540\n",
      "0    3054\n",
      "Name: toxico, dtype: int64\n"
     ]
    }
   ],
   "source": [
    "toxic_counts = lgbt_data.iloc[zeros]['toxico'].value_counts()\n",
    "print('Cluster 0 - LGBT Data')\n",
    "print('toxic ratio:', toxic_counts[1]/(toxic_counts[0]+toxic_counts[1]))\n",
    "print('non-toxic ratio:', toxic_counts[0]/(toxic_counts[0]+toxic_counts[1]))\n",
    "print()\n",
    "print(toxic_counts)"
   ]
  },
  {
   "cell_type": "code",
   "execution_count": 29,
   "metadata": {},
   "outputs": [
    {
     "name": "stdout",
     "output_type": "stream",
     "text": [
      "Cluster 1 - LGBT Data\n",
      "toxic ratio: 0.7788251366120219\n",
      "non-toxic ratio: 0.22117486338797815\n",
      "\n",
      "1    5701\n",
      "0    1619\n",
      "Name: toxico, dtype: int64\n"
     ]
    }
   ],
   "source": [
    "toxic_counts = lgbt_data.iloc[ones]['toxico'].value_counts()\n",
    "print('Cluster 1 - LGBT Data')\n",
    "print('toxic ratio:', toxic_counts[1]/(toxic_counts[0]+toxic_counts[1]))\n",
    "print('non-toxic ratio:', toxic_counts[0]/(toxic_counts[0]+toxic_counts[1]))\n",
    "print()\n",
    "print(toxic_counts)"
   ]
  }
 ],
 "metadata": {
  "kernelspec": {
   "display_name": "Python 3",
   "language": "python",
   "name": "python3"
  },
  "language_info": {
   "codemirror_mode": {
    "name": "ipython",
    "version": 3
   },
   "file_extension": ".py",
   "mimetype": "text/x-python",
   "name": "python",
   "nbconvert_exporter": "python",
   "pygments_lexer": "ipython3",
   "version": "3.7.4"
  }
 },
 "nbformat": 4,
 "nbformat_minor": 2
}
